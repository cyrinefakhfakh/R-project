{
 "cells": [
  {
   "cell_type": "markdown",
   "id": "1b094f7d-ab1c-4fc8-bed7-0ebbdeb3af08",
   "metadata": {},
   "source": [
    "PROJET R \n",
    "realisée par Cyrine Fakhfakh\n",
    "             Yosser Ghrairi\n",
    "             Ghofrane Nefissi "
   ]
  },
  {
   "cell_type": "code",
   "execution_count": 37,
   "id": "ed0a3cf5-c644-436a-a8fd-5f7e27118011",
   "metadata": {},
   "outputs": [],
   "source": [
    "library(ggplot2)\n",
    "library(dplyr)  "
   ]
  },
  {
   "cell_type": "code",
   "execution_count": 38,
   "id": "eba02efe-c9c9-43c5-a77b-91a3ada495fb",
   "metadata": {},
   "outputs": [],
   "source": [
    "library(corrplot)"
   ]
  },
  {
   "cell_type": "code",
   "execution_count": 39,
   "id": "fc9ed576-b89f-46b8-bcc2-2b32d69b099f",
   "metadata": {},
   "outputs": [],
   "source": [
    "data <- read.csv(\"C:\\\\Users\\\\Maja\\\\Desktop\\\\diabetes_prediction_dataset.csv\")"
   ]
  },
  {
   "cell_type": "code",
   "execution_count": 40,
   "id": "a505b246-3dd2-4c60-9f20-4c3ef37d0dde",
   "metadata": {},
   "outputs": [
    {
     "data": {
      "text/html": [
       "<table class=\"dataframe\">\n",
       "<caption>A data.frame: 6 × 9</caption>\n",
       "<thead>\n",
       "\t<tr><th></th><th scope=col>gender</th><th scope=col>age</th><th scope=col>hypertension</th><th scope=col>heart_disease</th><th scope=col>smoking_history</th><th scope=col>bmi</th><th scope=col>HbA1c_level</th><th scope=col>blood_glucose_level</th><th scope=col>diabetes</th></tr>\n",
       "\t<tr><th></th><th scope=col>&lt;chr&gt;</th><th scope=col>&lt;dbl&gt;</th><th scope=col>&lt;int&gt;</th><th scope=col>&lt;int&gt;</th><th scope=col>&lt;chr&gt;</th><th scope=col>&lt;dbl&gt;</th><th scope=col>&lt;dbl&gt;</th><th scope=col>&lt;int&gt;</th><th scope=col>&lt;int&gt;</th></tr>\n",
       "</thead>\n",
       "<tbody>\n",
       "\t<tr><th scope=row>1</th><td>Female</td><td>80</td><td>0</td><td>1</td><td>never  </td><td>25.19</td><td>6.6</td><td>140</td><td>0</td></tr>\n",
       "\t<tr><th scope=row>2</th><td>Female</td><td>54</td><td>0</td><td>0</td><td>No Info</td><td>27.32</td><td>6.6</td><td> 80</td><td>0</td></tr>\n",
       "\t<tr><th scope=row>3</th><td>Male  </td><td>28</td><td>0</td><td>0</td><td>never  </td><td>27.32</td><td>5.7</td><td>158</td><td>0</td></tr>\n",
       "\t<tr><th scope=row>4</th><td>Female</td><td>36</td><td>0</td><td>0</td><td>current</td><td>23.45</td><td>5.0</td><td>155</td><td>0</td></tr>\n",
       "\t<tr><th scope=row>5</th><td>Male  </td><td>76</td><td>1</td><td>1</td><td>current</td><td>20.14</td><td>4.8</td><td>155</td><td>0</td></tr>\n",
       "\t<tr><th scope=row>6</th><td>Female</td><td>20</td><td>0</td><td>0</td><td>never  </td><td>27.32</td><td>6.6</td><td> 85</td><td>0</td></tr>\n",
       "</tbody>\n",
       "</table>\n"
      ],
      "text/latex": [
       "A data.frame: 6 × 9\n",
       "\\begin{tabular}{r|lllllllll}\n",
       "  & gender & age & hypertension & heart\\_disease & smoking\\_history & bmi & HbA1c\\_level & blood\\_glucose\\_level & diabetes\\\\\n",
       "  & <chr> & <dbl> & <int> & <int> & <chr> & <dbl> & <dbl> & <int> & <int>\\\\\n",
       "\\hline\n",
       "\t1 & Female & 80 & 0 & 1 & never   & 25.19 & 6.6 & 140 & 0\\\\\n",
       "\t2 & Female & 54 & 0 & 0 & No Info & 27.32 & 6.6 &  80 & 0\\\\\n",
       "\t3 & Male   & 28 & 0 & 0 & never   & 27.32 & 5.7 & 158 & 0\\\\\n",
       "\t4 & Female & 36 & 0 & 0 & current & 23.45 & 5.0 & 155 & 0\\\\\n",
       "\t5 & Male   & 76 & 1 & 1 & current & 20.14 & 4.8 & 155 & 0\\\\\n",
       "\t6 & Female & 20 & 0 & 0 & never   & 27.32 & 6.6 &  85 & 0\\\\\n",
       "\\end{tabular}\n"
      ],
      "text/markdown": [
       "\n",
       "A data.frame: 6 × 9\n",
       "\n",
       "| <!--/--> | gender &lt;chr&gt; | age &lt;dbl&gt; | hypertension &lt;int&gt; | heart_disease &lt;int&gt; | smoking_history &lt;chr&gt; | bmi &lt;dbl&gt; | HbA1c_level &lt;dbl&gt; | blood_glucose_level &lt;int&gt; | diabetes &lt;int&gt; |\n",
       "|---|---|---|---|---|---|---|---|---|---|\n",
       "| 1 | Female | 80 | 0 | 1 | never   | 25.19 | 6.6 | 140 | 0 |\n",
       "| 2 | Female | 54 | 0 | 0 | No Info | 27.32 | 6.6 |  80 | 0 |\n",
       "| 3 | Male   | 28 | 0 | 0 | never   | 27.32 | 5.7 | 158 | 0 |\n",
       "| 4 | Female | 36 | 0 | 0 | current | 23.45 | 5.0 | 155 | 0 |\n",
       "| 5 | Male   | 76 | 1 | 1 | current | 20.14 | 4.8 | 155 | 0 |\n",
       "| 6 | Female | 20 | 0 | 0 | never   | 27.32 | 6.6 |  85 | 0 |\n",
       "\n"
      ],
      "text/plain": [
       "  gender age hypertension heart_disease smoking_history bmi   HbA1c_level\n",
       "1 Female 80  0            1             never           25.19 6.6        \n",
       "2 Female 54  0            0             No Info         27.32 6.6        \n",
       "3 Male   28  0            0             never           27.32 5.7        \n",
       "4 Female 36  0            0             current         23.45 5.0        \n",
       "5 Male   76  1            1             current         20.14 4.8        \n",
       "6 Female 20  0            0             never           27.32 6.6        \n",
       "  blood_glucose_level diabetes\n",
       "1 140                 0       \n",
       "2  80                 0       \n",
       "3 158                 0       \n",
       "4 155                 0       \n",
       "5 155                 0       \n",
       "6  85                 0       "
      ]
     },
     "metadata": {},
     "output_type": "display_data"
    }
   ],
   "source": [
    "head(data)"
   ]
  },
  {
   "cell_type": "code",
   "execution_count": 41,
   "id": "37c12511-3f17-48c1-9d57-d21937f7a232",
   "metadata": {},
   "outputs": [
    {
     "data": {
      "text/plain": [
       "    gender               age         hypertension     heart_disease    \n",
       " Length:100000      Min.   : 0.08   Min.   :0.00000   Min.   :0.00000  \n",
       " Class :character   1st Qu.:24.00   1st Qu.:0.00000   1st Qu.:0.00000  \n",
       " Mode  :character   Median :43.00   Median :0.00000   Median :0.00000  \n",
       "                    Mean   :41.89   Mean   :0.07485   Mean   :0.03942  \n",
       "                    3rd Qu.:60.00   3rd Qu.:0.00000   3rd Qu.:0.00000  \n",
       "                    Max.   :80.00   Max.   :1.00000   Max.   :1.00000  \n",
       " smoking_history         bmi         HbA1c_level    blood_glucose_level\n",
       " Length:100000      Min.   :10.01   Min.   :3.500   Min.   : 80.0      \n",
       " Class :character   1st Qu.:23.63   1st Qu.:4.800   1st Qu.:100.0      \n",
       " Mode  :character   Median :27.32   Median :5.800   Median :140.0      \n",
       "                    Mean   :27.32   Mean   :5.528   Mean   :138.1      \n",
       "                    3rd Qu.:29.58   3rd Qu.:6.200   3rd Qu.:159.0      \n",
       "                    Max.   :95.69   Max.   :9.000   Max.   :300.0      \n",
       "    diabetes    \n",
       " Min.   :0.000  \n",
       " 1st Qu.:0.000  \n",
       " Median :0.000  \n",
       " Mean   :0.085  \n",
       " 3rd Qu.:0.000  \n",
       " Max.   :1.000  "
      ]
     },
     "metadata": {},
     "output_type": "display_data"
    }
   ],
   "source": [
    "summary(data)"
   ]
  },
  {
   "cell_type": "code",
   "execution_count": 42,
   "id": "cc3b2dd1-1299-4913-8df5-647b1a1b468c",
   "metadata": {},
   "outputs": [
    {
     "data": {
      "text/html": [
       "<style>\n",
       ".list-inline {list-style: none; margin:0; padding: 0}\n",
       ".list-inline>li {display: inline-block}\n",
       ".list-inline>li:not(:last-child)::after {content: \"\\00b7\"; padding: 0 .5ex}\n",
       "</style>\n",
       "<ol class=list-inline><li>'gender'</li><li>'age'</li><li>'hypertension'</li><li>'heart_disease'</li><li>'smoking_history'</li><li>'bmi'</li><li>'HbA1c_level'</li><li>'blood_glucose_level'</li><li>'diabetes'</li></ol>\n"
      ],
      "text/latex": [
       "\\begin{enumerate*}\n",
       "\\item 'gender'\n",
       "\\item 'age'\n",
       "\\item 'hypertension'\n",
       "\\item 'heart\\_disease'\n",
       "\\item 'smoking\\_history'\n",
       "\\item 'bmi'\n",
       "\\item 'HbA1c\\_level'\n",
       "\\item 'blood\\_glucose\\_level'\n",
       "\\item 'diabetes'\n",
       "\\end{enumerate*}\n"
      ],
      "text/markdown": [
       "1. 'gender'\n",
       "2. 'age'\n",
       "3. 'hypertension'\n",
       "4. 'heart_disease'\n",
       "5. 'smoking_history'\n",
       "6. 'bmi'\n",
       "7. 'HbA1c_level'\n",
       "8. 'blood_glucose_level'\n",
       "9. 'diabetes'\n",
       "\n",
       "\n"
      ],
      "text/plain": [
       "[1] \"gender\"              \"age\"                 \"hypertension\"       \n",
       "[4] \"heart_disease\"       \"smoking_history\"     \"bmi\"                \n",
       "[7] \"HbA1c_level\"         \"blood_glucose_level\" \"diabetes\"           "
      ]
     },
     "metadata": {},
     "output_type": "display_data"
    }
   ],
   "source": [
    "names(data)"
   ]
  },
  {
   "cell_type": "code",
   "execution_count": 43,
   "id": "7bca6f4d-8f92-4c1e-b270-abf473f748b9",
   "metadata": {},
   "outputs": [
    {
     "data": {
      "text/html": [
       "'data.frame'"
      ],
      "text/latex": [
       "'data.frame'"
      ],
      "text/markdown": [
       "'data.frame'"
      ],
      "text/plain": [
       "[1] \"data.frame\""
      ]
     },
     "metadata": {},
     "output_type": "display_data"
    }
   ],
   "source": [
    "class(data)"
   ]
  },
  {
   "cell_type": "code",
   "execution_count": 44,
   "id": "7b47c823-1523-4d30-8d96-e30efe6af7df",
   "metadata": {},
   "outputs": [
    {
     "data": {
      "text/html": [
       "<style>\n",
       ".list-inline {list-style: none; margin:0; padding: 0}\n",
       ".list-inline>li {display: inline-block}\n",
       ".list-inline>li:not(:last-child)::after {content: \"\\00b7\"; padding: 0 .5ex}\n",
       "</style>\n",
       "<ol class=list-inline><li>100000</li><li>9</li></ol>\n"
      ],
      "text/latex": [
       "\\begin{enumerate*}\n",
       "\\item 100000\n",
       "\\item 9\n",
       "\\end{enumerate*}\n"
      ],
      "text/markdown": [
       "1. 100000\n",
       "2. 9\n",
       "\n",
       "\n"
      ],
      "text/plain": [
       "[1] 100000      9"
      ]
     },
     "metadata": {},
     "output_type": "display_data"
    }
   ],
   "source": [
    "dim(data)"
   ]
  },
  {
   "cell_type": "code",
   "execution_count": 45,
   "id": "309cdfca-0acf-47c8-953c-c026264199a1",
   "metadata": {},
   "outputs": [
    {
     "data": {
      "text/html": [
       "<table class=\"dataframe\">\n",
       "<caption>A data.frame: 100 × 9</caption>\n",
       "<thead>\n",
       "\t<tr><th></th><th scope=col>gender</th><th scope=col>age</th><th scope=col>hypertension</th><th scope=col>heart_disease</th><th scope=col>smoking_history</th><th scope=col>bmi</th><th scope=col>HbA1c_level</th><th scope=col>blood_glucose_level</th><th scope=col>diabetes</th></tr>\n",
       "\t<tr><th></th><th scope=col>&lt;chr&gt;</th><th scope=col>&lt;dbl&gt;</th><th scope=col>&lt;int&gt;</th><th scope=col>&lt;int&gt;</th><th scope=col>&lt;chr&gt;</th><th scope=col>&lt;dbl&gt;</th><th scope=col>&lt;dbl&gt;</th><th scope=col>&lt;int&gt;</th><th scope=col>&lt;int&gt;</th></tr>\n",
       "</thead>\n",
       "<tbody>\n",
       "\t<tr><th scope=row>1</th><td>Female</td><td>80</td><td>0</td><td>1</td><td>never      </td><td>25.19</td><td>6.6</td><td>140</td><td>0</td></tr>\n",
       "\t<tr><th scope=row>2</th><td>Female</td><td>54</td><td>0</td><td>0</td><td>No Info    </td><td>27.32</td><td>6.6</td><td> 80</td><td>0</td></tr>\n",
       "\t<tr><th scope=row>3</th><td>Male  </td><td>28</td><td>0</td><td>0</td><td>never      </td><td>27.32</td><td>5.7</td><td>158</td><td>0</td></tr>\n",
       "\t<tr><th scope=row>4</th><td>Female</td><td>36</td><td>0</td><td>0</td><td>current    </td><td>23.45</td><td>5.0</td><td>155</td><td>0</td></tr>\n",
       "\t<tr><th scope=row>5</th><td>Male  </td><td>76</td><td>1</td><td>1</td><td>current    </td><td>20.14</td><td>4.8</td><td>155</td><td>0</td></tr>\n",
       "\t<tr><th scope=row>6</th><td>Female</td><td>20</td><td>0</td><td>0</td><td>never      </td><td>27.32</td><td>6.6</td><td> 85</td><td>0</td></tr>\n",
       "\t<tr><th scope=row>7</th><td>Female</td><td>44</td><td>0</td><td>0</td><td>never      </td><td>19.31</td><td>6.5</td><td>200</td><td>1</td></tr>\n",
       "\t<tr><th scope=row>8</th><td>Female</td><td>79</td><td>0</td><td>0</td><td>No Info    </td><td>23.86</td><td>5.7</td><td> 85</td><td>0</td></tr>\n",
       "\t<tr><th scope=row>9</th><td>Male  </td><td>42</td><td>0</td><td>0</td><td>never      </td><td>33.64</td><td>4.8</td><td>145</td><td>0</td></tr>\n",
       "\t<tr><th scope=row>10</th><td>Female</td><td>32</td><td>0</td><td>0</td><td>never      </td><td>27.32</td><td>5.0</td><td>100</td><td>0</td></tr>\n",
       "\t<tr><th scope=row>11</th><td>Female</td><td>53</td><td>0</td><td>0</td><td>never      </td><td>27.32</td><td>6.1</td><td> 85</td><td>0</td></tr>\n",
       "\t<tr><th scope=row>12</th><td>Female</td><td>54</td><td>0</td><td>0</td><td>former     </td><td>54.70</td><td>6.0</td><td>100</td><td>0</td></tr>\n",
       "\t<tr><th scope=row>13</th><td>Female</td><td>78</td><td>0</td><td>0</td><td>former     </td><td>36.05</td><td>5.0</td><td>130</td><td>0</td></tr>\n",
       "\t<tr><th scope=row>14</th><td>Female</td><td>67</td><td>0</td><td>0</td><td>never      </td><td>25.69</td><td>5.8</td><td>200</td><td>0</td></tr>\n",
       "\t<tr><th scope=row>15</th><td>Female</td><td>76</td><td>0</td><td>0</td><td>No Info    </td><td>27.32</td><td>5.0</td><td>160</td><td>0</td></tr>\n",
       "\t<tr><th scope=row>16</th><td>Male  </td><td>78</td><td>0</td><td>0</td><td>No Info    </td><td>27.32</td><td>6.6</td><td>126</td><td>0</td></tr>\n",
       "\t<tr><th scope=row>17</th><td>Male  </td><td>15</td><td>0</td><td>0</td><td>never      </td><td>30.36</td><td>6.1</td><td>200</td><td>0</td></tr>\n",
       "\t<tr><th scope=row>18</th><td>Female</td><td>42</td><td>0</td><td>0</td><td>never      </td><td>24.48</td><td>5.7</td><td>158</td><td>0</td></tr>\n",
       "\t<tr><th scope=row>19</th><td>Female</td><td>42</td><td>0</td><td>0</td><td>No Info    </td><td>27.32</td><td>5.7</td><td> 80</td><td>0</td></tr>\n",
       "\t<tr><th scope=row>20</th><td>Male  </td><td>37</td><td>0</td><td>0</td><td>ever       </td><td>25.72</td><td>3.5</td><td>159</td><td>0</td></tr>\n",
       "\t<tr><th scope=row>21</th><td>Male  </td><td>40</td><td>0</td><td>0</td><td>current    </td><td>36.38</td><td>6.0</td><td> 90</td><td>0</td></tr>\n",
       "\t<tr><th scope=row>22</th><td>Male  </td><td> 5</td><td>0</td><td>0</td><td>No Info    </td><td>18.80</td><td>6.2</td><td> 85</td><td>0</td></tr>\n",
       "\t<tr><th scope=row>23</th><td>Female</td><td>69</td><td>0</td><td>0</td><td>never      </td><td>21.24</td><td>4.8</td><td> 85</td><td>0</td></tr>\n",
       "\t<tr><th scope=row>24</th><td>Female</td><td>72</td><td>0</td><td>1</td><td>former     </td><td>27.94</td><td>6.5</td><td>130</td><td>0</td></tr>\n",
       "\t<tr><th scope=row>25</th><td>Female</td><td> 4</td><td>0</td><td>0</td><td>No Info    </td><td>13.99</td><td>4.0</td><td>140</td><td>0</td></tr>\n",
       "\t<tr><th scope=row>26</th><td>Male  </td><td>30</td><td>0</td><td>0</td><td>never      </td><td>33.76</td><td>6.1</td><td>126</td><td>0</td></tr>\n",
       "\t<tr><th scope=row>27</th><td>Male  </td><td>67</td><td>0</td><td>1</td><td>not current</td><td>27.32</td><td>6.5</td><td>200</td><td>1</td></tr>\n",
       "\t<tr><th scope=row>28</th><td>Male  </td><td>40</td><td>0</td><td>0</td><td>former     </td><td>27.85</td><td>5.8</td><td> 80</td><td>0</td></tr>\n",
       "\t<tr><th scope=row>29</th><td>Male  </td><td>45</td><td>1</td><td>0</td><td>never      </td><td>26.47</td><td>4.0</td><td>158</td><td>0</td></tr>\n",
       "\t<tr><th scope=row>30</th><td>Male  </td><td>43</td><td>0</td><td>0</td><td>never      </td><td>26.08</td><td>6.1</td><td>155</td><td>0</td></tr>\n",
       "\t<tr><th scope=row>⋮</th><td>⋮</td><td>⋮</td><td>⋮</td><td>⋮</td><td>⋮</td><td>⋮</td><td>⋮</td><td>⋮</td><td>⋮</td></tr>\n",
       "\t<tr><th scope=row>71</th><td>Male  </td><td> 7</td><td>0</td><td>0</td><td>No Info    </td><td>15.94</td><td>5.8</td><td>158</td><td>0</td></tr>\n",
       "\t<tr><th scope=row>72</th><td>Male  </td><td> 3</td><td>0</td><td>0</td><td>No Info    </td><td>15.80</td><td>6.2</td><td> 90</td><td>0</td></tr>\n",
       "\t<tr><th scope=row>73</th><td>Female</td><td>30</td><td>0</td><td>0</td><td>never      </td><td>27.01</td><td>6.2</td><td>145</td><td>0</td></tr>\n",
       "\t<tr><th scope=row>74</th><td>Male  </td><td>43</td><td>0</td><td>0</td><td>not current</td><td>27.32</td><td>3.5</td><td>126</td><td>0</td></tr>\n",
       "\t<tr><th scope=row>75</th><td>Female</td><td>76</td><td>0</td><td>0</td><td>never      </td><td>22.19</td><td>6.6</td><td>158</td><td>0</td></tr>\n",
       "\t<tr><th scope=row>76</th><td>Female</td><td>41</td><td>0</td><td>0</td><td>never      </td><td>27.45</td><td>5.7</td><td>130</td><td>0</td></tr>\n",
       "\t<tr><th scope=row>77</th><td>Female</td><td>11</td><td>0</td><td>0</td><td>No Info    </td><td>17.98</td><td>6.5</td><td>159</td><td>0</td></tr>\n",
       "\t<tr><th scope=row>78</th><td>Female</td><td>26</td><td>0</td><td>0</td><td>never      </td><td>26.45</td><td>5.7</td><td>158</td><td>0</td></tr>\n",
       "\t<tr><th scope=row>79</th><td>Male  </td><td>34</td><td>0</td><td>0</td><td>never      </td><td>31.16</td><td>5.8</td><td> 90</td><td>0</td></tr>\n",
       "\t<tr><th scope=row>80</th><td>Male  </td><td>80</td><td>0</td><td>0</td><td>former     </td><td>24.42</td><td>4.0</td><td>160</td><td>0</td></tr>\n",
       "\t<tr><th scope=row>81</th><td>Female</td><td>37</td><td>0</td><td>0</td><td>No Info    </td><td>30.50</td><td>5.7</td><td>159</td><td>0</td></tr>\n",
       "\t<tr><th scope=row>82</th><td>Male  </td><td>57</td><td>0</td><td>0</td><td>No Info    </td><td>27.32</td><td>8.2</td><td>126</td><td>1</td></tr>\n",
       "\t<tr><th scope=row>83</th><td>Female</td><td>53</td><td>0</td><td>0</td><td>former     </td><td>26.37</td><td>4.5</td><td>200</td><td>0</td></tr>\n",
       "\t<tr><th scope=row>84</th><td>Male  </td><td>54</td><td>0</td><td>0</td><td>never      </td><td>31.86</td><td>6.6</td><td>145</td><td>0</td></tr>\n",
       "\t<tr><th scope=row>85</th><td>Female</td><td>37</td><td>0</td><td>0</td><td>No Info    </td><td>21.25</td><td>6.1</td><td>200</td><td>0</td></tr>\n",
       "\t<tr><th scope=row>86</th><td>Female</td><td>56</td><td>0</td><td>0</td><td>never      </td><td>30.95</td><td>6.5</td><td>145</td><td>0</td></tr>\n",
       "\t<tr><th scope=row>87</th><td>Male  </td><td>79</td><td>0</td><td>0</td><td>former     </td><td>31.19</td><td>5.8</td><td>155</td><td>0</td></tr>\n",
       "\t<tr><th scope=row>88</th><td>Female</td><td>36</td><td>0</td><td>0</td><td>current    </td><td>32.27</td><td>6.2</td><td>220</td><td>1</td></tr>\n",
       "\t<tr><th scope=row>89</th><td>Female</td><td>38</td><td>0</td><td>0</td><td>ever       </td><td>22.42</td><td>6.0</td><td> 85</td><td>0</td></tr>\n",
       "\t<tr><th scope=row>90</th><td>Female</td><td> 6</td><td>0</td><td>0</td><td>No Info    </td><td>16.39</td><td>6.6</td><td>200</td><td>0</td></tr>\n",
       "\t<tr><th scope=row>91</th><td>Female</td><td>42</td><td>0</td><td>0</td><td>never      </td><td>17.46</td><td>6.2</td><td>155</td><td>0</td></tr>\n",
       "\t<tr><th scope=row>92</th><td>Female</td><td>44</td><td>0</td><td>0</td><td>never      </td><td>37.35</td><td>5.7</td><td>145</td><td>0</td></tr>\n",
       "\t<tr><th scope=row>93</th><td>Male  </td><td>54</td><td>0</td><td>0</td><td>former     </td><td>32.85</td><td>5.0</td><td>160</td><td>0</td></tr>\n",
       "\t<tr><th scope=row>94</th><td>Male  </td><td>38</td><td>0</td><td>0</td><td>never      </td><td>55.61</td><td>6.5</td><td>130</td><td>0</td></tr>\n",
       "\t<tr><th scope=row>95</th><td>Female</td><td>60</td><td>0</td><td>0</td><td>never      </td><td>27.32</td><td>7.5</td><td>300</td><td>1</td></tr>\n",
       "\t<tr><th scope=row>96</th><td>Male  </td><td>19</td><td>0</td><td>0</td><td>never      </td><td>27.32</td><td>6.1</td><td> 80</td><td>0</td></tr>\n",
       "\t<tr><th scope=row>97</th><td>Female</td><td>67</td><td>0</td><td>0</td><td>never      </td><td>27.32</td><td>6.2</td><td>159</td><td>1</td></tr>\n",
       "\t<tr><th scope=row>98</th><td>Male  </td><td>11</td><td>0</td><td>0</td><td>No Info    </td><td>27.32</td><td>6.1</td><td> 90</td><td>0</td></tr>\n",
       "\t<tr><th scope=row>99</th><td>Female</td><td>30</td><td>0</td><td>0</td><td>No Info    </td><td>50.13</td><td>6.0</td><td>100</td><td>0</td></tr>\n",
       "\t<tr><th scope=row>100</th><td>Male  </td><td>29</td><td>0</td><td>0</td><td>current    </td><td>27.32</td><td>4.8</td><td>158</td><td>0</td></tr>\n",
       "</tbody>\n",
       "</table>\n"
      ],
      "text/latex": [
       "A data.frame: 100 × 9\n",
       "\\begin{tabular}{r|lllllllll}\n",
       "  & gender & age & hypertension & heart\\_disease & smoking\\_history & bmi & HbA1c\\_level & blood\\_glucose\\_level & diabetes\\\\\n",
       "  & <chr> & <dbl> & <int> & <int> & <chr> & <dbl> & <dbl> & <int> & <int>\\\\\n",
       "\\hline\n",
       "\t1 & Female & 80 & 0 & 1 & never       & 25.19 & 6.6 & 140 & 0\\\\\n",
       "\t2 & Female & 54 & 0 & 0 & No Info     & 27.32 & 6.6 &  80 & 0\\\\\n",
       "\t3 & Male   & 28 & 0 & 0 & never       & 27.32 & 5.7 & 158 & 0\\\\\n",
       "\t4 & Female & 36 & 0 & 0 & current     & 23.45 & 5.0 & 155 & 0\\\\\n",
       "\t5 & Male   & 76 & 1 & 1 & current     & 20.14 & 4.8 & 155 & 0\\\\\n",
       "\t6 & Female & 20 & 0 & 0 & never       & 27.32 & 6.6 &  85 & 0\\\\\n",
       "\t7 & Female & 44 & 0 & 0 & never       & 19.31 & 6.5 & 200 & 1\\\\\n",
       "\t8 & Female & 79 & 0 & 0 & No Info     & 23.86 & 5.7 &  85 & 0\\\\\n",
       "\t9 & Male   & 42 & 0 & 0 & never       & 33.64 & 4.8 & 145 & 0\\\\\n",
       "\t10 & Female & 32 & 0 & 0 & never       & 27.32 & 5.0 & 100 & 0\\\\\n",
       "\t11 & Female & 53 & 0 & 0 & never       & 27.32 & 6.1 &  85 & 0\\\\\n",
       "\t12 & Female & 54 & 0 & 0 & former      & 54.70 & 6.0 & 100 & 0\\\\\n",
       "\t13 & Female & 78 & 0 & 0 & former      & 36.05 & 5.0 & 130 & 0\\\\\n",
       "\t14 & Female & 67 & 0 & 0 & never       & 25.69 & 5.8 & 200 & 0\\\\\n",
       "\t15 & Female & 76 & 0 & 0 & No Info     & 27.32 & 5.0 & 160 & 0\\\\\n",
       "\t16 & Male   & 78 & 0 & 0 & No Info     & 27.32 & 6.6 & 126 & 0\\\\\n",
       "\t17 & Male   & 15 & 0 & 0 & never       & 30.36 & 6.1 & 200 & 0\\\\\n",
       "\t18 & Female & 42 & 0 & 0 & never       & 24.48 & 5.7 & 158 & 0\\\\\n",
       "\t19 & Female & 42 & 0 & 0 & No Info     & 27.32 & 5.7 &  80 & 0\\\\\n",
       "\t20 & Male   & 37 & 0 & 0 & ever        & 25.72 & 3.5 & 159 & 0\\\\\n",
       "\t21 & Male   & 40 & 0 & 0 & current     & 36.38 & 6.0 &  90 & 0\\\\\n",
       "\t22 & Male   &  5 & 0 & 0 & No Info     & 18.80 & 6.2 &  85 & 0\\\\\n",
       "\t23 & Female & 69 & 0 & 0 & never       & 21.24 & 4.8 &  85 & 0\\\\\n",
       "\t24 & Female & 72 & 0 & 1 & former      & 27.94 & 6.5 & 130 & 0\\\\\n",
       "\t25 & Female &  4 & 0 & 0 & No Info     & 13.99 & 4.0 & 140 & 0\\\\\n",
       "\t26 & Male   & 30 & 0 & 0 & never       & 33.76 & 6.1 & 126 & 0\\\\\n",
       "\t27 & Male   & 67 & 0 & 1 & not current & 27.32 & 6.5 & 200 & 1\\\\\n",
       "\t28 & Male   & 40 & 0 & 0 & former      & 27.85 & 5.8 &  80 & 0\\\\\n",
       "\t29 & Male   & 45 & 1 & 0 & never       & 26.47 & 4.0 & 158 & 0\\\\\n",
       "\t30 & Male   & 43 & 0 & 0 & never       & 26.08 & 6.1 & 155 & 0\\\\\n",
       "\t⋮ & ⋮ & ⋮ & ⋮ & ⋮ & ⋮ & ⋮ & ⋮ & ⋮ & ⋮\\\\\n",
       "\t71 & Male   &  7 & 0 & 0 & No Info     & 15.94 & 5.8 & 158 & 0\\\\\n",
       "\t72 & Male   &  3 & 0 & 0 & No Info     & 15.80 & 6.2 &  90 & 0\\\\\n",
       "\t73 & Female & 30 & 0 & 0 & never       & 27.01 & 6.2 & 145 & 0\\\\\n",
       "\t74 & Male   & 43 & 0 & 0 & not current & 27.32 & 3.5 & 126 & 0\\\\\n",
       "\t75 & Female & 76 & 0 & 0 & never       & 22.19 & 6.6 & 158 & 0\\\\\n",
       "\t76 & Female & 41 & 0 & 0 & never       & 27.45 & 5.7 & 130 & 0\\\\\n",
       "\t77 & Female & 11 & 0 & 0 & No Info     & 17.98 & 6.5 & 159 & 0\\\\\n",
       "\t78 & Female & 26 & 0 & 0 & never       & 26.45 & 5.7 & 158 & 0\\\\\n",
       "\t79 & Male   & 34 & 0 & 0 & never       & 31.16 & 5.8 &  90 & 0\\\\\n",
       "\t80 & Male   & 80 & 0 & 0 & former      & 24.42 & 4.0 & 160 & 0\\\\\n",
       "\t81 & Female & 37 & 0 & 0 & No Info     & 30.50 & 5.7 & 159 & 0\\\\\n",
       "\t82 & Male   & 57 & 0 & 0 & No Info     & 27.32 & 8.2 & 126 & 1\\\\\n",
       "\t83 & Female & 53 & 0 & 0 & former      & 26.37 & 4.5 & 200 & 0\\\\\n",
       "\t84 & Male   & 54 & 0 & 0 & never       & 31.86 & 6.6 & 145 & 0\\\\\n",
       "\t85 & Female & 37 & 0 & 0 & No Info     & 21.25 & 6.1 & 200 & 0\\\\\n",
       "\t86 & Female & 56 & 0 & 0 & never       & 30.95 & 6.5 & 145 & 0\\\\\n",
       "\t87 & Male   & 79 & 0 & 0 & former      & 31.19 & 5.8 & 155 & 0\\\\\n",
       "\t88 & Female & 36 & 0 & 0 & current     & 32.27 & 6.2 & 220 & 1\\\\\n",
       "\t89 & Female & 38 & 0 & 0 & ever        & 22.42 & 6.0 &  85 & 0\\\\\n",
       "\t90 & Female &  6 & 0 & 0 & No Info     & 16.39 & 6.6 & 200 & 0\\\\\n",
       "\t91 & Female & 42 & 0 & 0 & never       & 17.46 & 6.2 & 155 & 0\\\\\n",
       "\t92 & Female & 44 & 0 & 0 & never       & 37.35 & 5.7 & 145 & 0\\\\\n",
       "\t93 & Male   & 54 & 0 & 0 & former      & 32.85 & 5.0 & 160 & 0\\\\\n",
       "\t94 & Male   & 38 & 0 & 0 & never       & 55.61 & 6.5 & 130 & 0\\\\\n",
       "\t95 & Female & 60 & 0 & 0 & never       & 27.32 & 7.5 & 300 & 1\\\\\n",
       "\t96 & Male   & 19 & 0 & 0 & never       & 27.32 & 6.1 &  80 & 0\\\\\n",
       "\t97 & Female & 67 & 0 & 0 & never       & 27.32 & 6.2 & 159 & 1\\\\\n",
       "\t98 & Male   & 11 & 0 & 0 & No Info     & 27.32 & 6.1 &  90 & 0\\\\\n",
       "\t99 & Female & 30 & 0 & 0 & No Info     & 50.13 & 6.0 & 100 & 0\\\\\n",
       "\t100 & Male   & 29 & 0 & 0 & current     & 27.32 & 4.8 & 158 & 0\\\\\n",
       "\\end{tabular}\n"
      ],
      "text/markdown": [
       "\n",
       "A data.frame: 100 × 9\n",
       "\n",
       "| <!--/--> | gender &lt;chr&gt; | age &lt;dbl&gt; | hypertension &lt;int&gt; | heart_disease &lt;int&gt; | smoking_history &lt;chr&gt; | bmi &lt;dbl&gt; | HbA1c_level &lt;dbl&gt; | blood_glucose_level &lt;int&gt; | diabetes &lt;int&gt; |\n",
       "|---|---|---|---|---|---|---|---|---|---|\n",
       "| 1 | Female | 80 | 0 | 1 | never       | 25.19 | 6.6 | 140 | 0 |\n",
       "| 2 | Female | 54 | 0 | 0 | No Info     | 27.32 | 6.6 |  80 | 0 |\n",
       "| 3 | Male   | 28 | 0 | 0 | never       | 27.32 | 5.7 | 158 | 0 |\n",
       "| 4 | Female | 36 | 0 | 0 | current     | 23.45 | 5.0 | 155 | 0 |\n",
       "| 5 | Male   | 76 | 1 | 1 | current     | 20.14 | 4.8 | 155 | 0 |\n",
       "| 6 | Female | 20 | 0 | 0 | never       | 27.32 | 6.6 |  85 | 0 |\n",
       "| 7 | Female | 44 | 0 | 0 | never       | 19.31 | 6.5 | 200 | 1 |\n",
       "| 8 | Female | 79 | 0 | 0 | No Info     | 23.86 | 5.7 |  85 | 0 |\n",
       "| 9 | Male   | 42 | 0 | 0 | never       | 33.64 | 4.8 | 145 | 0 |\n",
       "| 10 | Female | 32 | 0 | 0 | never       | 27.32 | 5.0 | 100 | 0 |\n",
       "| 11 | Female | 53 | 0 | 0 | never       | 27.32 | 6.1 |  85 | 0 |\n",
       "| 12 | Female | 54 | 0 | 0 | former      | 54.70 | 6.0 | 100 | 0 |\n",
       "| 13 | Female | 78 | 0 | 0 | former      | 36.05 | 5.0 | 130 | 0 |\n",
       "| 14 | Female | 67 | 0 | 0 | never       | 25.69 | 5.8 | 200 | 0 |\n",
       "| 15 | Female | 76 | 0 | 0 | No Info     | 27.32 | 5.0 | 160 | 0 |\n",
       "| 16 | Male   | 78 | 0 | 0 | No Info     | 27.32 | 6.6 | 126 | 0 |\n",
       "| 17 | Male   | 15 | 0 | 0 | never       | 30.36 | 6.1 | 200 | 0 |\n",
       "| 18 | Female | 42 | 0 | 0 | never       | 24.48 | 5.7 | 158 | 0 |\n",
       "| 19 | Female | 42 | 0 | 0 | No Info     | 27.32 | 5.7 |  80 | 0 |\n",
       "| 20 | Male   | 37 | 0 | 0 | ever        | 25.72 | 3.5 | 159 | 0 |\n",
       "| 21 | Male   | 40 | 0 | 0 | current     | 36.38 | 6.0 |  90 | 0 |\n",
       "| 22 | Male   |  5 | 0 | 0 | No Info     | 18.80 | 6.2 |  85 | 0 |\n",
       "| 23 | Female | 69 | 0 | 0 | never       | 21.24 | 4.8 |  85 | 0 |\n",
       "| 24 | Female | 72 | 0 | 1 | former      | 27.94 | 6.5 | 130 | 0 |\n",
       "| 25 | Female |  4 | 0 | 0 | No Info     | 13.99 | 4.0 | 140 | 0 |\n",
       "| 26 | Male   | 30 | 0 | 0 | never       | 33.76 | 6.1 | 126 | 0 |\n",
       "| 27 | Male   | 67 | 0 | 1 | not current | 27.32 | 6.5 | 200 | 1 |\n",
       "| 28 | Male   | 40 | 0 | 0 | former      | 27.85 | 5.8 |  80 | 0 |\n",
       "| 29 | Male   | 45 | 1 | 0 | never       | 26.47 | 4.0 | 158 | 0 |\n",
       "| 30 | Male   | 43 | 0 | 0 | never       | 26.08 | 6.1 | 155 | 0 |\n",
       "| ⋮ | ⋮ | ⋮ | ⋮ | ⋮ | ⋮ | ⋮ | ⋮ | ⋮ | ⋮ |\n",
       "| 71 | Male   |  7 | 0 | 0 | No Info     | 15.94 | 5.8 | 158 | 0 |\n",
       "| 72 | Male   |  3 | 0 | 0 | No Info     | 15.80 | 6.2 |  90 | 0 |\n",
       "| 73 | Female | 30 | 0 | 0 | never       | 27.01 | 6.2 | 145 | 0 |\n",
       "| 74 | Male   | 43 | 0 | 0 | not current | 27.32 | 3.5 | 126 | 0 |\n",
       "| 75 | Female | 76 | 0 | 0 | never       | 22.19 | 6.6 | 158 | 0 |\n",
       "| 76 | Female | 41 | 0 | 0 | never       | 27.45 | 5.7 | 130 | 0 |\n",
       "| 77 | Female | 11 | 0 | 0 | No Info     | 17.98 | 6.5 | 159 | 0 |\n",
       "| 78 | Female | 26 | 0 | 0 | never       | 26.45 | 5.7 | 158 | 0 |\n",
       "| 79 | Male   | 34 | 0 | 0 | never       | 31.16 | 5.8 |  90 | 0 |\n",
       "| 80 | Male   | 80 | 0 | 0 | former      | 24.42 | 4.0 | 160 | 0 |\n",
       "| 81 | Female | 37 | 0 | 0 | No Info     | 30.50 | 5.7 | 159 | 0 |\n",
       "| 82 | Male   | 57 | 0 | 0 | No Info     | 27.32 | 8.2 | 126 | 1 |\n",
       "| 83 | Female | 53 | 0 | 0 | former      | 26.37 | 4.5 | 200 | 0 |\n",
       "| 84 | Male   | 54 | 0 | 0 | never       | 31.86 | 6.6 | 145 | 0 |\n",
       "| 85 | Female | 37 | 0 | 0 | No Info     | 21.25 | 6.1 | 200 | 0 |\n",
       "| 86 | Female | 56 | 0 | 0 | never       | 30.95 | 6.5 | 145 | 0 |\n",
       "| 87 | Male   | 79 | 0 | 0 | former      | 31.19 | 5.8 | 155 | 0 |\n",
       "| 88 | Female | 36 | 0 | 0 | current     | 32.27 | 6.2 | 220 | 1 |\n",
       "| 89 | Female | 38 | 0 | 0 | ever        | 22.42 | 6.0 |  85 | 0 |\n",
       "| 90 | Female |  6 | 0 | 0 | No Info     | 16.39 | 6.6 | 200 | 0 |\n",
       "| 91 | Female | 42 | 0 | 0 | never       | 17.46 | 6.2 | 155 | 0 |\n",
       "| 92 | Female | 44 | 0 | 0 | never       | 37.35 | 5.7 | 145 | 0 |\n",
       "| 93 | Male   | 54 | 0 | 0 | former      | 32.85 | 5.0 | 160 | 0 |\n",
       "| 94 | Male   | 38 | 0 | 0 | never       | 55.61 | 6.5 | 130 | 0 |\n",
       "| 95 | Female | 60 | 0 | 0 | never       | 27.32 | 7.5 | 300 | 1 |\n",
       "| 96 | Male   | 19 | 0 | 0 | never       | 27.32 | 6.1 |  80 | 0 |\n",
       "| 97 | Female | 67 | 0 | 0 | never       | 27.32 | 6.2 | 159 | 1 |\n",
       "| 98 | Male   | 11 | 0 | 0 | No Info     | 27.32 | 6.1 |  90 | 0 |\n",
       "| 99 | Female | 30 | 0 | 0 | No Info     | 50.13 | 6.0 | 100 | 0 |\n",
       "| 100 | Male   | 29 | 0 | 0 | current     | 27.32 | 4.8 | 158 | 0 |\n",
       "\n"
      ],
      "text/plain": [
       "    gender age hypertension heart_disease smoking_history bmi   HbA1c_level\n",
       "1   Female 80  0            1             never           25.19 6.6        \n",
       "2   Female 54  0            0             No Info         27.32 6.6        \n",
       "3   Male   28  0            0             never           27.32 5.7        \n",
       "4   Female 36  0            0             current         23.45 5.0        \n",
       "5   Male   76  1            1             current         20.14 4.8        \n",
       "6   Female 20  0            0             never           27.32 6.6        \n",
       "7   Female 44  0            0             never           19.31 6.5        \n",
       "8   Female 79  0            0             No Info         23.86 5.7        \n",
       "9   Male   42  0            0             never           33.64 4.8        \n",
       "10  Female 32  0            0             never           27.32 5.0        \n",
       "11  Female 53  0            0             never           27.32 6.1        \n",
       "12  Female 54  0            0             former          54.70 6.0        \n",
       "13  Female 78  0            0             former          36.05 5.0        \n",
       "14  Female 67  0            0             never           25.69 5.8        \n",
       "15  Female 76  0            0             No Info         27.32 5.0        \n",
       "16  Male   78  0            0             No Info         27.32 6.6        \n",
       "17  Male   15  0            0             never           30.36 6.1        \n",
       "18  Female 42  0            0             never           24.48 5.7        \n",
       "19  Female 42  0            0             No Info         27.32 5.7        \n",
       "20  Male   37  0            0             ever            25.72 3.5        \n",
       "21  Male   40  0            0             current         36.38 6.0        \n",
       "22  Male    5  0            0             No Info         18.80 6.2        \n",
       "23  Female 69  0            0             never           21.24 4.8        \n",
       "24  Female 72  0            1             former          27.94 6.5        \n",
       "25  Female  4  0            0             No Info         13.99 4.0        \n",
       "26  Male   30  0            0             never           33.76 6.1        \n",
       "27  Male   67  0            1             not current     27.32 6.5        \n",
       "28  Male   40  0            0             former          27.85 5.8        \n",
       "29  Male   45  1            0             never           26.47 4.0        \n",
       "30  Male   43  0            0             never           26.08 6.1        \n",
       "⋮   ⋮      ⋮   ⋮            ⋮             ⋮               ⋮     ⋮          \n",
       "71  Male    7  0            0             No Info         15.94 5.8        \n",
       "72  Male    3  0            0             No Info         15.80 6.2        \n",
       "73  Female 30  0            0             never           27.01 6.2        \n",
       "74  Male   43  0            0             not current     27.32 3.5        \n",
       "75  Female 76  0            0             never           22.19 6.6        \n",
       "76  Female 41  0            0             never           27.45 5.7        \n",
       "77  Female 11  0            0             No Info         17.98 6.5        \n",
       "78  Female 26  0            0             never           26.45 5.7        \n",
       "79  Male   34  0            0             never           31.16 5.8        \n",
       "80  Male   80  0            0             former          24.42 4.0        \n",
       "81  Female 37  0            0             No Info         30.50 5.7        \n",
       "82  Male   57  0            0             No Info         27.32 8.2        \n",
       "83  Female 53  0            0             former          26.37 4.5        \n",
       "84  Male   54  0            0             never           31.86 6.6        \n",
       "85  Female 37  0            0             No Info         21.25 6.1        \n",
       "86  Female 56  0            0             never           30.95 6.5        \n",
       "87  Male   79  0            0             former          31.19 5.8        \n",
       "88  Female 36  0            0             current         32.27 6.2        \n",
       "89  Female 38  0            0             ever            22.42 6.0        \n",
       "90  Female  6  0            0             No Info         16.39 6.6        \n",
       "91  Female 42  0            0             never           17.46 6.2        \n",
       "92  Female 44  0            0             never           37.35 5.7        \n",
       "93  Male   54  0            0             former          32.85 5.0        \n",
       "94  Male   38  0            0             never           55.61 6.5        \n",
       "95  Female 60  0            0             never           27.32 7.5        \n",
       "96  Male   19  0            0             never           27.32 6.1        \n",
       "97  Female 67  0            0             never           27.32 6.2        \n",
       "98  Male   11  0            0             No Info         27.32 6.1        \n",
       "99  Female 30  0            0             No Info         50.13 6.0        \n",
       "100 Male   29  0            0             current         27.32 4.8        \n",
       "    blood_glucose_level diabetes\n",
       "1   140                 0       \n",
       "2    80                 0       \n",
       "3   158                 0       \n",
       "4   155                 0       \n",
       "5   155                 0       \n",
       "6    85                 0       \n",
       "7   200                 1       \n",
       "8    85                 0       \n",
       "9   145                 0       \n",
       "10  100                 0       \n",
       "11   85                 0       \n",
       "12  100                 0       \n",
       "13  130                 0       \n",
       "14  200                 0       \n",
       "15  160                 0       \n",
       "16  126                 0       \n",
       "17  200                 0       \n",
       "18  158                 0       \n",
       "19   80                 0       \n",
       "20  159                 0       \n",
       "21   90                 0       \n",
       "22   85                 0       \n",
       "23   85                 0       \n",
       "24  130                 0       \n",
       "25  140                 0       \n",
       "26  126                 0       \n",
       "27  200                 1       \n",
       "28   80                 0       \n",
       "29  158                 0       \n",
       "30  155                 0       \n",
       "⋮   ⋮                   ⋮       \n",
       "71  158                 0       \n",
       "72   90                 0       \n",
       "73  145                 0       \n",
       "74  126                 0       \n",
       "75  158                 0       \n",
       "76  130                 0       \n",
       "77  159                 0       \n",
       "78  158                 0       \n",
       "79   90                 0       \n",
       "80  160                 0       \n",
       "81  159                 0       \n",
       "82  126                 1       \n",
       "83  200                 0       \n",
       "84  145                 0       \n",
       "85  200                 0       \n",
       "86  145                 0       \n",
       "87  155                 0       \n",
       "88  220                 1       \n",
       "89   85                 0       \n",
       "90  200                 0       \n",
       "91  155                 0       \n",
       "92  145                 0       \n",
       "93  160                 0       \n",
       "94  130                 0       \n",
       "95  300                 1       \n",
       "96   80                 0       \n",
       "97  159                 1       \n",
       "98   90                 0       \n",
       "99  100                 0       \n",
       "100 158                 0       "
      ]
     },
     "metadata": {},
     "output_type": "display_data"
    }
   ],
   "source": [
    "head(data,100)"
   ]
  },
  {
   "cell_type": "code",
   "execution_count": 46,
   "id": "457bc855-d74e-494b-a271-9a89a95ea28b",
   "metadata": {},
   "outputs": [
    {
     "data": {
      "text/plain": [
       "\n",
       "    0     1 \n",
       "91500  8500 "
      ]
     },
     "metadata": {},
     "output_type": "display_data"
    }
   ],
   "source": [
    "table(data$diabetes)"
   ]
  },
  {
   "cell_type": "code",
   "execution_count": 47,
   "id": "0b3ef294-9e75-4279-97c8-14143244f62e",
   "metadata": {},
   "outputs": [
    {
     "data": {
      "text/plain": [
       "\n",
       "    current        ever      former       never     No Info not current \n",
       "       9286        4004        9352       35095       35816        6447 "
      ]
     },
     "metadata": {},
     "output_type": "display_data"
    }
   ],
   "source": [
    "table(data$smoking_history)"
   ]
  },
  {
   "cell_type": "code",
   "execution_count": 48,
   "id": "ce223cca-5c7c-4cb1-820c-fe172fa04f9e",
   "metadata": {},
   "outputs": [
    {
     "data": {
      "text/plain": [
       "\n",
       "    0     1 \n",
       "96058  3942 "
      ]
     },
     "metadata": {},
     "output_type": "display_data"
    }
   ],
   "source": [
    "table(data$heart_disease)"
   ]
  },
  {
   "cell_type": "code",
   "execution_count": 49,
   "id": "b9062665-6884-4e63-956f-146dd22311cd",
   "metadata": {},
   "outputs": [
    {
     "data": {
      "text/plain": [
       "\n",
       "  80   85   90  100  126  130  140  145  155  158  159  160  200  220  240  260 \n",
       "7106 6901 7112 7025 7702 7794 7732 7679 7575 7026 7759 7712 7600  603  636  635 \n",
       " 280  300 \n",
       " 729  674 "
      ]
     },
     "metadata": {},
     "output_type": "display_data"
    }
   ],
   "source": [
    "table(data$blood_glucose_leve)"
   ]
  },
  {
   "cell_type": "code",
   "execution_count": 50,
   "id": "c2cc0319-af97-4c4a-8305-087bb786300e",
   "metadata": {},
   "outputs": [
    {
     "name": "stdout",
     "output_type": "stream",
     "text": [
      "'data.frame':\t100000 obs. of  9 variables:\n",
      " $ gender             : chr  \"Female\" \"Female\" \"Male\" \"Female\" ...\n",
      " $ age                : num  80 54 28 36 76 20 44 79 42 32 ...\n",
      " $ hypertension       : int  0 0 0 0 1 0 0 0 0 0 ...\n",
      " $ heart_disease      : int  1 0 0 0 1 0 0 0 0 0 ...\n",
      " $ smoking_history    : chr  \"never\" \"No Info\" \"never\" \"current\" ...\n",
      " $ bmi                : num  25.2 27.3 27.3 23.4 20.1 ...\n",
      " $ HbA1c_level        : num  6.6 6.6 5.7 5 4.8 6.6 6.5 5.7 4.8 5 ...\n",
      " $ blood_glucose_level: int  140 80 158 155 155 85 200 85 145 100 ...\n",
      " $ diabetes           : int  0 0 0 0 0 0 1 0 0 0 ...\n"
     ]
    }
   ],
   "source": [
    "str(data)"
   ]
  },
  {
   "cell_type": "code",
   "execution_count": 51,
   "id": "ab5d937b-ebd4-4427-9b3c-2e5d693ea042",
   "metadata": {},
   "outputs": [
    {
     "data": {
      "image/png": "[encoded data removed]",
      "text/plain": [
       "Plot with title \"Male-Female Ratio in Dataset\""
      ]
     },
     "metadata": {
      "image/png": {
       "height": 420,
       "width": 420
      }
     },
     "output_type": "display_data"
    }
   ],
   "source": [
    "gender_counts = table(data$gender)\n",
    "pie(gender_counts, labels = names(gender_counts), main = 'Male-Female Ratio in Dataset', col = rainbow(length(gender_counts)))\n",
    "percent = round(100 * gender_counts / sum(gender_counts), 1)\n",
    "percent = paste(percent, \"%\", sep=\"\")\n",
    "legend(\"topright\", legend = percent, cex = 0.8, fill = rainbow(length(gender_counts)))"
   ]
  },
  {
   "cell_type": "markdown",
   "id": "41a345b9-f35d-4792-884a-912c9e7c0b47",
   "metadata": {},
   "source": [
    "L'analyse révèle une majorité de femmes (58,6 %) par rapport aux hommes (41,4 %) dans l'ensemble de données. Cette répartition des sexes devrait être prise en compte dans les analyses ultérieures, car les différences de genre peuvent influencer les résultats, notamment dans des domaines comme la santé où les disparités biologiques peuvent jouer un rôle.\n"
   ]
  },
  {
   "cell_type": "code",
   "execution_count": 52,
   "id": "f42f51f9-2cb2-41c6-8b93-af1222f2009a",
   "metadata": {},
   "outputs": [
    {
     "data": {
      "image/png": "[encoded data removed]",
      "text/plain": [
       "Plot with title \"Statut diabétique par sexe\""
      ]
     },
     "metadata": {
      "image/png": {
       "height": 420,
       "width": 420
      }
     },
     "output_type": "display_data"
    }
   ],
   "source": [
    "barplot(table(data$gender, data$diabetes), beside = TRUE, legend = TRUE, col = c(\"blue\", \"red\"), \n",
    "        main = \"Statut diabétique par sexe\", xlab = \"Sexe\", ylab = \"Nombre de patients\")"
   ]
  },
  {
   "cell_type": "markdown",
   "id": "68bded7c-7c97-4fee-82e9-4bdebec52594",
   "metadata": {},
   "source": [
    "Le graphique à barres montre la répartition du statut diabétique par sexe. Les barres rouges représentent les personnes\n",
    "diabétiques et les barres bleues représentent les non diabétiques. Cela permet de comparer visuellement la prévalence du\n",
    "diabète entre les sexes dans l'échantillon."
   ]
  },
  {
   "cell_type": "code",
   "execution_count": 53,
   "id": "552c5025-51b2-4620-acac-f7dea47b66f4",
   "metadata": {},
   "outputs": [
    {
     "data": {
      "image/png": "[encoded data removed]",
      "text/plain": [
       "Plot with title \"Distribution de BMI\""
      ]
     },
     "metadata": {
      "image/png": {
       "height": 420,
       "width": 420
      }
     },
     "output_type": "display_data"
    }
   ],
   "source": [
    "hist(data$bmi, main = \"Distribution de BMI\", xlab = \"BMI\" ,col= \"blue\", border= \"white\", ylab= \"Nombre\n",
    "d'observations\")"
   ]
  },
  {
   "cell_type": "markdown",
   "id": "fdacfcd8-eee6-4c21-a424-99dcdaf045d0",
   "metadata": {},
   "source": [
    "En examinant la forme de la distribution, vous pouvez déterminer si la plupart des personnes dans l'ensemble de données ont un IMC sain, ou s'il y a une tendance vers l'insuffisance pondérale ou le surpoids/l'obésité.\n",
    "Une courbe en cloche symétrique indiquerait une distribution normale des valeurs d'IMC, avec la majorité de la population concentrée autour d'un IMC moyen et moins de personnes tombant dans les catégories d'insuffisance pondérale ou de surpoids/obésité.\n",
    "Une distribution asymétrique vers la gauche (IMC inférieur) suggérerait une proportion plus élevée de personnes en insuffisance pondérale. À l'inverse, une asymétrie vers la droite (IMC supérieur) indiquerait plus de personnes dans les catégories de surpoids ou d'obésité."
   ]
  },
  {
   "cell_type": "code",
   "execution_count": 54,
   "id": "616d3120-e848-448c-9d1c-92a2227c2193",
   "metadata": {},
   "outputs": [
    {
     "data": {
      "image/png": "[encoded data removed]",
      "text/plain": [
       "Plot with title \"Histogram of data$age\""
      ]
     },
     "metadata": {
      "image/png": {
       "height": 420,
       "width": 420
      }
     },
     "output_type": "display_data"
    }
   ],
   "source": [
    "hist(data$age, col= \"black\", border= \"white\", xlab=\"age\", ylab= \"Nombre d'observations\",labels=T)"
   ]
  },
  {
   "cell_type": "markdown",
   "id": "36d54309-363c-453a-9988-0066886a7716",
   "metadata": {},
   "source": [
    "Le jeu de données que nous avons pris en considération pour notre analyse semble inclure une diversité d'âges parmi les participants. Cette diversité est observable dans la répartition uniforme des âges, couvrant une large gamme allant probablement de 20 à 60 ans"
   ]
  },
  {
   "cell_type": "code",
   "execution_count": 55,
   "id": "b6bb13a6-ca77-4444-8803-32611b888f1c",
   "metadata": {},
   "outputs": [
    {
     "data": {
      "image/png": "[encoded data removed]",
      "text/plain": [
       "Plot with title \"Distribution du taux d'HbA1c\""
      ]
     },
     "metadata": {
      "image/png": {
       "height": 420,
       "width": 420
      }
     },
     "output_type": "display_data"
    }
   ],
   "source": [
    "hist(data$HbA1c, main = \"Distribution du taux d'HbA1c\",col= \"blue\", border= \"white\", xlab = \"Taux d'HbA1c\")"
   ]
  },
  {
   "cell_type": "markdown",
   "id": "9980a9b9-bf4f-4b7d-84ba-ecf38ee07270",
   "metadata": {},
   "source": [
    "La forme de la distribution révèle le nombre de personnes ayant différents taux d'HbA1c.\n",
    "Une courbe en cloche symétrique suggère une distribution normale des valeurs d'HbA1c, avec la plupart des personnes ayant des taux d'HbA1c proches d'une valeur centrale et moins de personnes ayant des taux d'HbA1c très bas ou très élevés.\n",
    "Une distribution asymétrique vers la gauche (HbA1c plus bas) indiquerait que plus de personnes ont des taux d'HbA1c sains. À l'inverse, une asymétrie vers la droite (HbA1c plus élevé) suggérerait une prévalence plus élevée de diabète ou de prédiabète dans l'ensemble de données."
   ]
  },
  {
   "cell_type": "code",
   "execution_count": 56,
   "id": "5749d365-67ab-4bca-b808-03920a9217f8",
   "metadata": {},
   "outputs": [
    {
     "data": {
      "image/png": "[encoded data removed]",
      "text/plain": [
       "Plot with title \"Densité de l'âge par statut diabétique\""
      ]
     },
     "metadata": {
      "image/png": {
       "height": 420,
       "width": 420
      }
     },
     "output_type": "display_data"
    }
   ],
   "source": [
    "plot(density(data[data$diabetes == 1, \"age\"]), col = \"blue\", main = \"Densité de l'âge par statut diabétique\", xlab = \"Âge\", ylab = \"Densité\") "
   ]
  },
  {
   "cell_type": "markdown",
   "id": "e3501ff0-cb94-4bf2-8378-8c381f495fd8",
   "metadata": {},
   "source": [
    "L'âge semble être un facteur associé au diabète, même après prise en compte de la répartition par âge de la population.\n",
    "Le risque relatif de diabète est plus élevé chez les personnes plus âgées, en particulier après 60 ans.\n",
    "En résumé, la courbe confirme l'association entre l'âge et le diabète, avec un risque relatif accru chez les individus plus âgés, en particulier après 60 ans."
   ]
  },
  {
   "cell_type": "code",
   "execution_count": 57,
   "id": "8636b23b-4abc-410e-b108-e66e84eb7177",
   "metadata": {},
   "outputs": [],
   "source": [
    "\n",
    "library(plotrix)"
   ]
  },
  {
   "cell_type": "code",
   "execution_count": 58,
   "id": "9cf2d777-c1c2-4894-9fa6-756da0b9ee02",
   "metadata": {},
   "outputs": [],
   "source": [
    "table_smoking_diabetic = table(data$smoking_history[data$diabetes == 1])\n",
    "percentages = prop.table(table_smoking_diabetic) * 100"
   ]
  },
  {
   "cell_type": "code",
   "execution_count": 59,
   "id": "03b037dc-83d3-4d84-a48f-2d06b65650f4",
   "metadata": {},
   "outputs": [
    {
     "data": {
      "image/png": "[encoded data removed]",
      "text/plain": [
       "Plot with title \"Historique du tabagisme des personnes diabétiques\""
      ]
     },
     "metadata": {
      "image/png": {
       "height": 420,
       "width": 420
      }
     },
     "output_type": "display_data"
    }
   ],
   "source": [
    "pie3D(percentages,explode=0.1, \n",
    "    labels = paste(names(percentages), \"(\", round(percentages, 1), \"%)\"), \n",
    "    main = \"Historique du tabagisme des personnes diabétiques\")"
   ]
  },
  {
   "cell_type": "markdown",
   "id": "8b122e54-d058-4fb6-8b27-ba443a5d1ed8",
   "metadata": {},
   "source": [
    "Distribution des personnes diabétiques:\n",
    "La proportion de fumeurs parmi les personnes diabétiques est de 28,3%.\n",
    "La proportion de non-fumeurs est de 71,7%.\n",
    "Distribution des personnes non diabétiques:\n",
    "La proportion de fumeurs parmi les personnes non diabétiques est de 21,2%.\n",
    "La proportion de non-fumeurs est de 78,8%.\n",
    "Interprétation:\n",
    "\n",
    "Les personnes diabétiques semblent être plus susceptibles d'être fumeurs que les personnes non diabétiques.\n",
    "La différence de proportion entre les deux groupes est de 7,1% (28,3% pour les diabétiques vs 21,2% pour les non diabétiques).\n",
    "Cette association pourrait s'expliquer par plusieurs facteurs, tels que :\n",
    "Des facteurs de risque communs pour le diabète et le tabagisme, comme l'obésité et le manque d'activité physique.\n",
    "Un effet du tabagisme sur le développement du diabète.\n",
    "Des difficultés de gestion du diabète chez les fumeurs."
   ]
  },
  {
   "cell_type": "code",
   "execution_count": 60,
   "id": "c1a63010-45ce-492d-8212-02b63e82e962",
   "metadata": {},
   "outputs": [
    {
     "name": "stdout",
     "output_type": "stream",
     "text": [
      "'data.frame':\t100000 obs. of  9 variables:\n",
      " $ gender             : chr  \"Female\" \"Female\" \"Male\" \"Female\" ...\n",
      " $ age                : num  80 54 28 36 76 20 44 79 42 32 ...\n",
      " $ hypertension       : int  0 0 0 0 1 0 0 0 0 0 ...\n",
      " $ heart_disease      : int  1 0 0 0 1 0 0 0 0 0 ...\n",
      " $ smoking_history    : chr  \"never\" \"No Info\" \"never\" \"current\" ...\n",
      " $ bmi                : num  25.2 27.3 27.3 23.4 20.1 ...\n",
      " $ HbA1c_level        : num  6.6 6.6 5.7 5 4.8 6.6 6.5 5.7 4.8 5 ...\n",
      " $ blood_glucose_level: int  140 80 158 155 155 85 200 85 145 100 ...\n",
      " $ diabetes           : int  0 0 0 0 0 0 1 0 0 0 ...\n"
     ]
    },
    {
     "name": "stderr",
     "output_type": "stream",
     "text": [
      "Warning message in lapply(X = X, FUN = FUN, ...):\n",
      "\"NAs introduits lors de la conversion automatique\"\n",
      "Warning message in lapply(X = X, FUN = FUN, ...):\n",
      "\"NAs introduits lors de la conversion automatique\"\n"
     ]
    },
    {
     "data": {
      "image/png": "[encoded data removed]",
      "text/plain": [
       "Plot with title \"\""
      ]
     },
     "metadata": {
      "image/png": {
       "height": 420,
       "width": 420
      }
     },
     "output_type": "display_data"
    }
   ],
   "source": [
    "str(data)\n",
    "\n",
    "# If there are non-numeric columns that you want to remove\n",
    "data_numeric = data[, sapply(data, is.numeric)]\n",
    "\n",
    "# Or if you want to convert non-numeric columns to numeric\n",
    "# Example for converting all columns to numeric\n",
    "data_numeric = as.data.frame(sapply(data, as.numeric))\n",
    "\n",
    "# Now calculate the correlation matrix\n",
    "corr_matrix <- cor(data_numeric)\n",
    "corrplot(corr_matrix, method = \"color\", type = \"upper\", \n",
    "         col = colorRampPalette(c(\"blue\", \"white\", \"red\"))(200),\n",
    "         tl.col = \"black\", tl.srt = 45, \n",
    "         addCoef.col = \"black\", \n",
    "         diag = FALSE)"
   ]
  },
  {
   "cell_type": "markdown",
   "id": "2509f859-a04a-4040-ba86-582b80b63d7c",
   "metadata": {},
   "source": [
    "Facteurs de risque communs : Le tabagisme et le diabète partagent des facteurs de risque communs, tels que l'obésité et l'inactivité physique. Ces facteurs de risque communs pourraient contribuer à l'association observée.\n",
    "Tabagisme et développement du diabète : Le tabagisme a été associé à un risque accru de développer un diabète. Les produits chimiques contenus dans les cigarettes peuvent endommager le pancréas, l'organe responsable de la production d'insuline, une hormone qui régule le taux de sucre dans le sang.\n",
    "Gestion du diabète : Le tabagisme peut rendre la gestion du diabète plus difficile. Il peut interférer avec le contrôle de la glycémie, augmenter le risque de complications diabétiques et entraver les efforts pour arrêter de fumer.\n",
    "Considérations importantes\n",
    "\n",
    "Causalité : L'association observée n'établit pas de lien de causalité direct entre le diabète et le tabagisme. Des études supplémentaires sont nécessaires pour comprendre pleinement la relation complexe entre ces deux conditions.\n",
    "Facteurs de confusion : D'autres facteurs, tels que l'âge, le statut socio-économique et l'accès aux soins de santé, pourraient influencer l'association observée et doivent être pris en compte dans des analyses plus détaillées."
   ]
  },
  {
   "cell_type": "code",
   "execution_count": 61,
   "id": "7b2a3f1e-be39-4b74-96eb-ef5ebc27134d",
   "metadata": {},
   "outputs": [],
   "source": [
    "diabetes_no = data[data$diabetes == 0, ]\n",
    "diabetes_yes = data[data$diabetes == 1, ]"
   ]
  },
  {
   "cell_type": "code",
   "execution_count": 62,
   "id": "61d51beb-209a-4762-88fa-7c242d3315fc",
   "metadata": {},
   "outputs": [
    {
     "data": {
      "image/png": "[encoded data removed]",
      "text/plain": [
       "Plot with title \"Stacked Histogram of Age by Diabetes Status\""
      ]
     },
     "metadata": {
      "image/png": {
       "height": 420,
       "width": 420
      }
     },
     "output_type": "display_data"
    }
   ],
   "source": [
    "\n",
    "# Create the stacked histogram using base R plotting functions\n",
    "par(mfrow = c(1, 1))\n",
    "hist(diabetes_no$age, breaks = 9, col = \"#1f77b4\", xlim = range(data$age), main = \"Stacked Histogram of Age by Diabetes Status\", xlab = \"Age\")\n",
    "hist(diabetes_yes$age, breaks = 9, col = \"#ff7f0e\", add = TRUE)\n",
    "legend(\"topright\", legend = c(\"No Diabetes\", \"Diabetes\"), fill = c(\"#1f77b4\", \"#ff7f0e\"))"
   ]
  },
  {
   "cell_type": "markdown",
   "id": "ae7ae172-d36f-49e2-aed6-55ae7acef656",
   "metadata": {},
   "source": [
    "Interprétation de l'histogramme empilé de l'âge par diabète\n",
    "Interprétation globale\n",
    "\n",
    "L'histogramme empilé de l'âge par diabète illustre la répartition des individus avec et sans diabète selon différentes tranches d'âge. Les données suggèrent une forte association entre l'âge et la prévalence du diabète, la proportion d'individus diabétiques augmentant significativement avec l'âge.\n",
    "\n",
    "Observations clés\n",
    "\n",
    "Répartition par âge: L'histogramme montre que la population générale penche vers les groupes d'âge plus jeunes, avec une proportion plus élevée d'individus dans les tranches de 20-29 ans et 30-39 ans.\n",
    "\n",
    "Prévalence du diabète par âge: Chez les personnes diabétiques, la proportion est la plus élevée dans la tranche d'âge des 70-79 ans (45,6%) et diminue progressivement chez les groupes plus jeunes.\n",
    "\n",
    "Prévalence du non-diabète par âge: La proportion d'individus non diabétiques suit une tendance similaire, avec la proportion la plus élevée dans la tranche d'âge des 20-29 ans (81,3%) et une diminution progressive avec l'âge."
   ]
  },
  {
   "cell_type": "code",
   "execution_count": 67,
   "id": "41fe149b-9bc1-440e-9ef0-f43bdfe7dacd",
   "metadata": {},
   "outputs": [
    {
     "data": {
      "image/png": "[encoded data removed]",
      "text/plain": [
       "plot without title"
      ]
     },
     "metadata": {
      "image/png": {
       "height": 420,
       "width": 420
      }
     },
     "output_type": "display_data"
    }
   ],
   "source": [
    "library(dplyr)\n",
    "\n",
    "# Perform data manipulation and summarization\n",
    "gender_conditions <- data %>%\n",
    "  group_by(gender) %>%\n",
    "  summarise(hypertension_rate = mean(hypertension),\n",
    "            heart_disease_rate = mean(heart_disease))\n",
    "\n",
    "# Plot the data\n",
    "plot <- ggplot(gender_conditions, aes(x = gender)) +\n",
    "  geom_bar(aes(y = hypertension_rate), stat = \"identity\", fill = \"pink\", alpha = 0.5) +\n",
    "  geom_bar(aes(y = heart_disease_rate), stat = \"identity\", fill = \"blue\", alpha = 0.5) +\n",
    "  labs(title = \"Prévalence de l'hypertension et des maladies cardiaques par genre\", x = \"Genre\", y = \"Taux de prévalence\") +\n",
    "  scale_y_continuous(labels = scales::percent)\n",
    "\n",
    "# Display the plot\n",
    "print(plot)\n"
   ]
  },
  {
   "cell_type": "markdown",
   "id": "3cf691ff-92ea-4803-8505-28ff0e060328",
   "metadata": {},
   "source": [
    "Le graphique indique que les femmes présentent une prévalence plus élevée d'hypertension (environ 8 %) par rapport aux hommes (environ 6 %) et aux autres genres (environ 4 %).\n",
    "Pour les maladies cardiaques, le schéma est similaire, les femmes ayant une prévalence plus élevée (environ 7 %) par rapport aux hommes (environ 5 %) et aux autres genres (environ 3 %).\n",
    "La prévalence plus élevée d'hypertension et de maladies cardiaques chez les femmes pourrait être attribuée à divers facteurs, notamment :\n",
    "Différences biologiques : Les femmes peuvent présenter des différences au niveau des taux hormonaux, de la régulation de la pression artérielle et du métabolisme du cholestérol, ce qui augmente leur risque de développer ces maladies.\n",
    "Facteurs liés au mode de vie : Les femmes peuvent être plus susceptibles d'adopter certains comportements de vie, comme le tabagisme et la sédentarité, qui contribuent à l'hypertension et aux maladies cardiaques.\n",
    "Facteurs socio-économiques : Les femmes peuvent être confrontées à des obstacles sociaux et économiques qui limitent leur accès aux soins de santé, aux mesures préventives et aux choix de vie sains.\n"
   ]
  },
  {
   "cell_type": "code",
   "execution_count": 28,
   "id": "68fcfc0f-9654-44fc-9b18-5a2ce066e8e0",
   "metadata": {},
   "outputs": [
    {
     "name": "stderr",
     "output_type": "stream",
     "text": [
      "Warning message:\n",
      "\"\u001b[1m\u001b[22mContinuous \u001b[32mx\u001b[39m aesthetic\n",
      "\u001b[36mℹ\u001b[39m did you forget `aes(group = ...)`?\"\n",
      "Warning message:\n",
      "\"\u001b[1m\u001b[22mThe following aesthetics were dropped during statistical transformation: \u001b[32mfill\u001b[39m.\n",
      "\u001b[36mℹ\u001b[39m This can happen when ggplot fails to infer the correct grouping structure in the data.\n",
      "\u001b[36mℹ\u001b[39m Did you forget to specify a `group` aesthetic or to convert a numerical variable into a factor?\"\n",
      "Warning message:\n",
      "\"\u001b[1m\u001b[22mNo shared levels found between `names(values)` of the manual scale and the data's \u001b[32mfill\u001b[39m values.\"\n"
     ]
    },
    {
     "data": {
      "image/png": "[encoded data removed]",
      "text/plain": [
       "plot without title"
      ]
     },
     "metadata": {
      "image/png": {
       "height": 420,
       "width": 420
      }
     },
     "output_type": "display_data"
    }
   ],
   "source": [
    "ggplot(data, aes(x = diabetes, y = blood_glucose_level, fill = diabetes)) +\n",
    "  geom_boxplot() +\n",
    "  labs(title = \"Répartition du glucose sanguin selon le diabète\", x = \"Diabète\", y = \"Niveau de glucose sanguin\") +\n",
    "  scale_fill_manual(values = c(\"non diabétique\" = \"blue\", \"diabétique\" = \"red\"))"
   ]
  },
  {
   "cell_type": "code",
   "execution_count": 29,
   "id": "e1bc07ce-c8b9-4c2b-b45d-0de799c9120c",
   "metadata": {},
   "outputs": [
    {
     "name": "stdout",
     "output_type": "stream",
     "text": [
      "\u001b[90m# A tibble: 2 × 2\u001b[39m\n",
      "  diabetes mean_hba1c\n",
      "     \u001b[3m\u001b[90m<int>\u001b[39m\u001b[23m      \u001b[3m\u001b[90m<dbl>\u001b[39m\u001b[23m\n",
      "\u001b[90m1\u001b[39m        0       5.40\n",
      "\u001b[90m2\u001b[39m        1       6.93\n"
     ]
    }
   ],
   "source": [
    "hba1c_mean <- data %>% \n",
    "  group_by(diabetes) %>% \n",
    "  summarise(mean_hba1c = mean(HbA1c_level, na.rm = TRUE))\n",
    "print(hba1c_mean)"
   ]
  },
  {
   "cell_type": "markdown",
   "id": "41c48b3b-acd6-4960-9a5f-7de38ba6fbe0",
   "metadata": {},
   "source": [
    "Chaque boîte représente la distribution de la glycémie pour un sexe spécifique (femme ou homme). La boîte contient les 50 % médians des points de données (écart interquartile).\n",
    "Une ligne à l'intérieur de la boîte indique la glycémie médiane pour chaque sexe.\n",
    "Les \"whiskers\" (moustaches) s'étendent du haut et du bas de la boîte, englobant généralement jusqu'à 1,5 fois l'écart interquartile. Ils montrent la répartition des données au-delà des 50 % médians.\n",
    "Tout point de donnée situé au-delà des \"whiskers\" est considéré comme une valeur aberrante et est tracé individuellement."
   ]
  },
  {
   "cell_type": "code",
   "execution_count": 68,
   "id": "f94f2f3e-02ef-4ece-a309-342e6f80fe61",
   "metadata": {},
   "outputs": [
    {
     "data": {
      "image/png": "[encoded data removed]",
      "text/plain": [
       "plot without title"
      ]
     },
     "metadata": {
      "image/png": {
       "height": 420,
       "width": 420
      }
     },
     "output_type": "display_data"
    }
   ],
   "source": [
    "ggplot(data, aes(x = gender, y = bmi, fill = gender)) +\n",
    "  geom_boxplot() +\n",
    "  labs(title = \"Distribution du BMI selon le genre\", x = \"Genre\", y = \"BMI\")"
   ]
  },
  {
   "cell_type": "markdown",
   "id": "169485b6-24d9-4cd9-949d-7f7f9ad99908",
   "metadata": {},
   "source": [
    "Les boîtes des femmes et des hommes présentent une légère différence de largeur et de position. Cela suggère que la distribution de l'IMC pourrait être différente selon le sexe.\n",
    "L'IMC médian (la ligne au milieu de la boîte) semble être légèrement plus élevé chez les femmes que chez les hommes.\n",
    "La boîte plus large pour les femmes indique une plus grande dispersion des valeurs d'IMC dans ce groupe.\n",
    "On observe quelques valeurs aberrantes (points de données individuels situés en dehors des \"whiskers\") pour chaque sexe, mais légèrement plus chez les femmes.\n",
    "Interprétations possibles:\n",
    "\n",
    "D'après la position des boîtes et des médianes, il semble que les femmes de cet ensemble de données puissent avoir un IMC médian plus élevé que les hommes.\n",
    "La boîte plus large et les valeurs aberrantes chez les femmes suggèrent une plus grande variabilité des valeurs d'IMC chez ce groupe.\n",
    "Considérations importantes:\n",
    "\n",
    "Il s'agit simplement d'une représentation graphique, et les plages réelles de l'IMC peuvent ne pas être indiquées sur l'axe.\n",
    "L'IMC est un indicateur général et ne tient pas compte de la composition corporelle (muscle vs. graisse).\n",
    "Une analyse plus complète tiendrait compte d'autres facteurs tels que l'âge et l'origine ethnique.\n",
    "Il est important de consulter un professionnel de la santé pour interpréter votre IMC individuel."
   ]
  },
  {
   "cell_type": "code",
   "execution_count": 69,
   "id": "26577821-30d4-4ed4-90cb-a7e099a5c70a",
   "metadata": {},
   "outputs": [
    {
     "data": {
      "text/plain": [
       "   diabetes         glucose_levels  \n",
       " Length:100         Min.   : 53.82  \n",
       " Class :character   1st Qu.:100.82  \n",
       " Mode  :character   Median :121.22  \n",
       "                    Mean   :126.98  \n",
       "                    3rd Qu.:147.66  \n",
       "                    Max.   :215.07  "
      ]
     },
     "metadata": {},
     "output_type": "display_data"
    },
    {
     "name": "stdout",
     "output_type": "stream",
     "text": [
      "\n",
      "\tWelch Two Sample t-test\n",
      "\n",
      "data:  glucose_levels by diabetes\n",
      "t = 10.258, df = 84.281, p-value < 2.2e-16\n",
      "alternative hypothesis: true difference in means between group Diabetic and group Non-Diabetic is not equal to 0\n",
      "95 percent confidence interval:\n",
      " 38.77934 57.42854\n",
      "sample estimates:\n",
      "    mean in group Diabetic mean in group Non-Diabetic \n",
      "                  151.0321                   102.9282 \n",
      "\n"
     ]
    },
    {
     "data": {
      "image/png": "[encoded data removed]",
      "text/plain": [
       "Plot with title \"Comparison of Glucose Levels between Diabetic and Non-Diabetic Groups\""
      ]
     },
     "metadata": {
      "image/png": {
       "height": 420,
       "width": 420
      }
     },
     "output_type": "display_data"
    }
   ],
   "source": [
    "# Création d'un exemple de données\n",
    "set.seed(123)\n",
    "diabetes <- c(rep(\"Diabetic\", 50), rep(\"Non-Diabetic\", 50))\n",
    "glucose_levels <- c(rnorm(50, mean = 150, sd = 30), rnorm(50, mean = 100, sd = 20))\n",
    "data <- data.frame(diabetes, glucose_levels)\n",
    "\n",
    "# Affichage des statistiques descriptives\n",
    "summary(data)\n",
    "\n",
    "# Test t de Student pour comparer les moyennes\n",
    "t_test <- t.test(glucose_levels ~ diabetes, data = data)\n",
    "print(t_test)\n",
    "\n",
    "# Création d'un graphique boxplot pour visualiser les données\n",
    "boxplot(glucose_levels ~ diabetes, data = data, col = c(\"red\", \"blue\"), xlab = \"Diabetes Status\", ylab = \"Glucose Level\", main = \"Comparison of Glucose Levels between Diabetic and Non-Diabetic Groups\")\n"
   ]
  },
  {
   "cell_type": "markdown",
   "id": "52769092-4947-4369-b239-cd7284703d0c",
   "metadata": {},
   "source": [
    "En observant la distribution des points, on peut voir s'il existe une tendance générale entre le taux de cholestérol total et l'âge.\n",
    "Une corrélation positive serait indiquée par une tendance générale à la hausse, où des taux de cholestérol plus élevés sont associés à des âges plus avancés.\n",
    "Une corrélation négative serait indiquée par une tendance à la baisse, où des taux de cholestérol plus faibles seraient liés à des âges plus avancés.\n",
    "Aucune corrélation ne serait suggérée par une dispersion aléatoire des points sans direction claire vers le haut ou le bas.\n",
    "Considérations importantes:\n",
    "\n",
    "Le nuage de points montre uniquement une corrélation, pas une causalité. Cela ne signifie pas nécessairement que l'âge croissant fait augmenter le taux de cholestérol ou vice versa. D'autres facteurs peuvent influencer les deux variables.\n",
    "La force de la corrélation peut être mesurée statistiquement à l'aide d'un coefficient de corrélation.\n",
    "Informations supplémentaires:\n",
    "\n",
    "Il serait instructif de voir s'il existe des valeurs aberrantes (points de données très éloignés du nuage principal) qui pourraient nécessiter un examen plus approfondi.\n",
    "La mise en évidence de seuils spécifiques de cholestérol total pourrait permettre d'évaluer le nombre de personnes appartenant à des catégories à haut risque."
   ]
  },
  {
   "cell_type": "code",
   "execution_count": 70,
   "id": "d134ffe1-b072-4f4b-ae8c-79fed853327f",
   "metadata": {},
   "outputs": [
    {
     "data": {
      "image/png": "[encoded data removed]",
      "text/plain": [
       "plot without title"
      ]
     },
     "metadata": {
      "image/png": {
       "height": 420,
       "width": 420
      }
     },
     "output_type": "display_data"
    }
   ],
   "source": [
    "ggplot(gender_conditions, aes(x = gender)) +\n",
    "  geom_bar(aes(y = hypertension_rate), stat = \"identity\", fill = \"blue\", alpha = 0.5) +\n",
    "  geom_bar(aes(y = heart_disease_rate), stat = \"identity\", fill = \"red\", alpha = 0.5) +\n",
    "  labs(title = \"Prévalence de l'hypertension et des maladies cardiaques par genre\", x = \"Genre\", y = \"Taux de prévalence\") +\n",
    "  scale_y_continuous(labels = scales::percent)\n"
   ]
  },
  {
   "cell_type": "markdown",
   "id": "1d249787-0d90-4752-b87e-21fd4630e155",
   "metadata": {},
   "source": [
    "Un bon modèle aura un nombre élevé de Vrais Positifs (prédictions correctes de cancer) et de Vrais Négatifs (prédictions correctes d'absence de cancer).\n",
    "Les Faux Positifs (prédictions incorrectes de cancer) et les Faux Négatifs (cas de cancer manqués) sont indésirables et doivent être minimisés.\n",
    "Il s'agit des cas où le modèle a correctement prédit un cancer malin (positif) et où la biopsie a également confirmé la présence d'un cancer (positif)."
   ]
  }
 ],
 "metadata": {
  "kernelspec": {
   "display_name": "R",
   "language": "R",
   "name": "ir"
  },
  "language_info": {
   "codemirror_mode": "r",
   "file_extension": ".r",
   "mimetype": "text/x-r-source",
   "name": "R",
   "pygments_lexer": "r",
   "version": "4.3.2"
  }
 },
 "nbformat": 4,
 "nbformat_minor": 5
}
